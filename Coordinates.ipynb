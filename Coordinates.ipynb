{
 "cells": [
  {
   "cell_type": "code",
   "source": "# https://docs.deepnote.com/importing-and-exporing/share-or-embed-a-cell\n\nfrom pyproj import Transformer, CRS\n# https://blog.finxter.com/how-to-create-an-interactive-web-application-using-jupyter-notebook/\nimport matplotlib.pyplot as plt\nimport seaborn as sns\n%matplotlib inline\nimport plotly.express as px\nimport plotly.io as pio\npio.renderers.default = 'colab'  # \"browser\" for pycharm, \"notebook\" for jupyter\nimport kaleido  # to render graphs in plotly as images\nimport numpy as np\nimport pandas as pd\nfrom io import StringIO\nimport csv\nimport os\nimport ipywidgets as widgets\nfrom IPython.display import display, clear_output\n# https://github.com/jupyter-widgets/ipywidgets/issues/3445\n\nmain_display = widgets.Output()\n\ndef show_it(inputs):\n    with main_display:\n        main_display.clear_output()\n        display(list(inputs['new'].keys())[-1])\n        print(list(inputs['new'].keys())[-1])\n        print(' was successfully uploaded')\n\ndef clear():\n    os.system('cls')\n\nupload = widgets.FileUpload(\n    accept='.xlsx',\n    multiple=False)\n\nupload.observe(show_it, names='_counter')\n# if pyqt5 widgets fail:\n# https://stackoverflow.com/questions/20790926/ipython-notebook-open-select-file-with-gui-qt-dialog\n# https://blog.finxter.com/how-to-create-an-interactive-web-application-using-jupyter-notebook/",
   "metadata": {
    "tags": [],
    "cell_id": "d7225ddd-b49b-4a13-826d-df7f375f1c11",
    "deepnote_to_be_reexecuted": false,
    "source_hash": "5861564",
    "execution_start": 1659698599921,
    "execution_millis": 5481,
    "deepnote_app_coordinates": {
     "x": 0,
     "y": 1,
     "w": 12,
     "h": 6
    },
    "deepnote_cell_type": "code",
    "deepnote_cell_height": 778
   },
   "execution_count": 1,
   "outputs": []
  },
  {
   "cell_type": "code",
   "source": "display(upload)",
   "metadata": {
    "cell_id": "6aff4f06d873428c913d2128efb280f2",
    "tags": [],
    "deepnote_to_be_reexecuted": false,
    "source_hash": "b26af698",
    "execution_start": 1659687201621,
    "execution_millis": 11,
    "deepnote_app_coordinates": {
     "x": 0,
     "y": 7,
     "w": 4,
     "h": 7
    },
    "deepnote_cell_type": "code",
    "deepnote_cell_height": 123
   },
   "outputs": [
    {
     "data": {
      "text/plain": "FileUpload(value={}, accept='.xlsx', description='Upload')",
      "application/vnd.jupyter.widget-view+json": {
       "version_major": 2,
       "version_minor": 0,
       "model_id": "15175df60017460fb206e60a80b6deb5"
      }
     },
     "metadata": {},
     "output_type": "display_data"
    }
   ],
   "execution_count": null
  },
  {
   "cell_type": "code",
   "source": "# upload.value #---> for all the data regarding the uploaded file. + .values() generates the list of values\nuploaded_filename = next(iter(upload.value))\nprint(uploaded_filename + ' was uploaded')",
   "metadata": {
    "cell_id": "28c6b81a7fa641369738460213c48ff3",
    "tags": [],
    "deepnote_to_be_reexecuted": false,
    "source_hash": "f05f235c",
    "execution_start": 1659687434766,
    "execution_millis": 0,
    "deepnote_app_coordinates": {
     "x": 4,
     "y": 7,
     "w": 8,
     "h": 7
    },
    "deepnote_cell_type": "code",
    "deepnote_cell_height": 148.1875
   },
   "outputs": [
    {
     "name": "stdout",
     "text": "Pestalozzi_Koordinaten.xlsx was uploaded\n",
     "output_type": "stream"
    }
   ],
   "execution_count": null
  },
  {
   "cell_type": "code",
   "source": "# import data into dataframe\ninput_file = list(upload.value.values())[0]\ncontent = input_file['content']  # equal to upload.data[0]\nif uploaded_filename.find('.xls') != -1:\n    tbl = pd.read_excel(content, header=0, engine='openpyxl')\nelif uploaded_filename.find('.csv') != -1:\n    content = StringIO(content.decode('utf-8'))\n    sniffer = csv.Sniffer()\n    sniffer.preferred = [';', ',']\n    dialect = sniffer.sniff(content)\n    tbl = pd.read_csv(content, delimiter=dialect.delimiter, header=0)\n\n# prepare dataframe\ntbl = tbl.rename(columns={tbl.columns[0]: 'Pfahl', tbl.columns[1]: 'X', tbl.columns[2]: 'Y'})\ntbl = tbl.iloc[0:,0:3]\n# drop all but the X and Y columns\npiles = tbl.Pfahl\ntbl = tbl.astype({'X': 'float64', 'Y': 'float64'})\ntbl.head()",
   "metadata": {
    "cell_id": "51b84deb306745d9b79ba1ce3d9f4304",
    "tags": [],
    "deepnote_to_be_reexecuted": false,
    "source_hash": "c60d8bf7",
    "execution_start": 1659687437826,
    "execution_millis": 339,
    "deepnote_app_coordinates": {
     "x": 0,
     "y": 14,
     "w": 12,
     "h": 28
    },
    "deepnote_cell_type": "code",
    "deepnote_cell_height": 714
   },
   "outputs": [
    {
     "output_type": "execute_result",
     "execution_count": 11,
     "data": {
      "application/vnd.deepnote.dataframe.v3+json": {
       "column_count": 3,
       "row_count": 5,
       "columns": [
        {
         "name": "Pfahl",
         "dtype": "object",
         "stats": {
          "unique_count": 5,
          "nan_count": 0,
          "categories": [
           {
            "name": "BNO-01",
            "count": 1
           },
           {
            "name": "BNO-02",
            "count": 1
           },
           {
            "name": "3 others",
            "count": 3
           }
          ]
         }
        },
        {
         "name": "X",
         "dtype": "float64",
         "stats": {
          "unique_count": 5,
          "nan_count": 0,
          "min": "3452904.9325",
          "max": "3452923.9802",
          "histogram": [
           {
            "bin_start": 3452904.9325,
            "bin_end": 3452906.83727,
            "count": 2
           },
           {
            "bin_start": 3452906.83727,
            "bin_end": 3452908.74204,
            "count": 2
           },
           {
            "bin_start": 3452908.74204,
            "bin_end": 3452910.6468100003,
            "count": 0
           },
           {
            "bin_start": 3452910.6468100003,
            "bin_end": 3452912.55158,
            "count": 0
           },
           {
            "bin_start": 3452912.55158,
            "bin_end": 3452914.45635,
            "count": 0
           },
           {
            "bin_start": 3452914.45635,
            "bin_end": 3452916.36112,
            "count": 0
           },
           {
            "bin_start": 3452916.36112,
            "bin_end": 3452918.26589,
            "count": 0
           },
           {
            "bin_start": 3452918.26589,
            "bin_end": 3452920.1706600003,
            "count": 0
           },
           {
            "bin_start": 3452920.1706600003,
            "bin_end": 3452922.07543,
            "count": 0
           },
           {
            "bin_start": 3452922.07543,
            "bin_end": 3452923.9802,
            "count": 1
           }
          ]
         }
        },
        {
         "name": "Y",
         "dtype": "float64",
         "stats": {
          "unique_count": 5,
          "nan_count": 0,
          "min": "5526301.9347",
          "max": "5526315.1748",
          "histogram": [
           {
            "bin_start": 5526301.9347,
            "bin_end": 5526303.25871,
            "count": 2
           },
           {
            "bin_start": 5526303.25871,
            "bin_end": 5526304.58272,
            "count": 2
           },
           {
            "bin_start": 5526304.58272,
            "bin_end": 5526305.90673,
            "count": 0
           },
           {
            "bin_start": 5526305.90673,
            "bin_end": 5526307.2307400005,
            "count": 0
           },
           {
            "bin_start": 5526307.2307400005,
            "bin_end": 5526308.55475,
            "count": 0
           },
           {
            "bin_start": 5526308.55475,
            "bin_end": 5526309.87876,
            "count": 0
           },
           {
            "bin_start": 5526309.87876,
            "bin_end": 5526311.20277,
            "count": 0
           },
           {
            "bin_start": 5526311.20277,
            "bin_end": 5526312.52678,
            "count": 0
           },
           {
            "bin_start": 5526312.52678,
            "bin_end": 5526313.8507900005,
            "count": 0
           },
           {
            "bin_start": 5526313.8507900005,
            "bin_end": 5526315.1748,
            "count": 1
           }
          ]
         }
        },
        {
         "name": "_deepnote_index_column",
         "dtype": "int64"
        }
       ],
       "rows": [
        {
         "Pfahl": "BNO-01",
         "X": 3452904.9325,
         "Y": 5526301.9347,
         "_deepnote_index_column": 0
        },
        {
         "Pfahl": "BNO-02",
         "X": 3452905.9285,
         "Y": 5526302.692,
         "_deepnote_index_column": 1
        },
        {
         "Pfahl": "BNO-03",
         "X": 3452906.9556,
         "Y": 5526303.4022,
         "_deepnote_index_column": 2
        },
        {
         "Pfahl": "BNO-04",
         "X": 3452908.5985,
         "Y": 5526304.5383,
         "_deepnote_index_column": 3
        },
        {
         "Pfahl": "BNO-05",
         "X": 3452923.9802,
         "Y": 5526315.1748,
         "_deepnote_index_column": 4
        }
       ]
      },
      "text/plain": "    Pfahl             X             Y\n0  BNO-01  3.452905e+06  5.526302e+06\n1  BNO-02  3.452906e+06  5.526303e+06\n2  BNO-03  3.452907e+06  5.526303e+06\n3  BNO-04  3.452909e+06  5.526305e+06\n4  BNO-05  3.452924e+06  5.526315e+06",
      "text/html": "<div>\n<style scoped>\n    .dataframe tbody tr th:only-of-type {\n        vertical-align: middle;\n    }\n\n    .dataframe tbody tr th {\n        vertical-align: top;\n    }\n\n    .dataframe thead th {\n        text-align: right;\n    }\n</style>\n<table border=\"1\" class=\"dataframe\">\n  <thead>\n    <tr style=\"text-align: right;\">\n      <th></th>\n      <th>Pfahl</th>\n      <th>X</th>\n      <th>Y</th>\n    </tr>\n  </thead>\n  <tbody>\n    <tr>\n      <th>0</th>\n      <td>BNO-01</td>\n      <td>3.452905e+06</td>\n      <td>5.526302e+06</td>\n    </tr>\n    <tr>\n      <th>1</th>\n      <td>BNO-02</td>\n      <td>3.452906e+06</td>\n      <td>5.526303e+06</td>\n    </tr>\n    <tr>\n      <th>2</th>\n      <td>BNO-03</td>\n      <td>3.452907e+06</td>\n      <td>5.526303e+06</td>\n    </tr>\n    <tr>\n      <th>3</th>\n      <td>BNO-04</td>\n      <td>3.452909e+06</td>\n      <td>5.526305e+06</td>\n    </tr>\n    <tr>\n      <th>4</th>\n      <td>BNO-05</td>\n      <td>3.452924e+06</td>\n      <td>5.526315e+06</td>\n    </tr>\n  </tbody>\n</table>\n</div>"
     },
     "metadata": {}
    }
   ],
   "execution_count": null
  },
  {
   "cell_type": "code",
   "source": "# plot raw unconverted data https://deepnote.com/@carlos-mendez/PYTHON-Plotly-Express-3e900d54-8143-405b-8be2-266157d4ec75\nfig1 = px.scatter(tbl,\n            x=tbl.columns[1],\n            y=tbl.columns[2],\n            #color=\"region\",\n            hover_name=tbl.columns[0],\n            #animation_frame = tbl.columns[0]\n)\nfig1.show(renderer=\"colab\")\n#valid = False\n#while not valid: #loop until the user enters a valid int\n    #try:\n        #num = int(input('Enter the number of points to be drawn: '))\n        #valid = True #if this point is reached, x is a valid int\n    #except ValueError:        print('Please only input digits')\n#plt.scatter(x=tbl[tbl.columns[1]][0:num], y=tbl[tbl.columns[2]][0:num])\n#plt.show()",
   "metadata": {
    "cell_id": "f513e13afb5b4b44b327c132b6719897",
    "tags": [],
    "deepnote_to_be_reexecuted": false,
    "source_hash": "99e6843",
    "execution_start": 1659630830790,
    "execution_millis": 476,
    "deepnote_app_coordinates": {
     "x": 0,
     "y": 43,
     "w": 12,
     "h": 36
    },
    "deepnote_cell_type": "code",
    "deepnote_cell_height": 912,
    "deepnote_output_heights": [
     527
    ]
   },
   "execution_count": null,
   "outputs": [
    {
     "data": {
      "text/html": "<html>\n<head><meta charset=\"utf-8\" /></head>\n<body>\n    <div>            <script src=\"https://cdnjs.cloudflare.com/ajax/libs/mathjax/2.7.5/MathJax.js?config=TeX-AMS-MML_SVG\"></script><script type=\"text/javascript\">if (window.MathJax && window.MathJax.Hub && window.MathJax.Hub.Config) {window.MathJax.Hub.Config({SVG: {font: \"STIX-Web\"}});}</script>                <script type=\"text/javascript\">window.PlotlyConfig = {MathJaxConfig: 'local'};</script>\n        <script src=\"https://cdn.plot.ly/plotly-2.12.1.min.js\"></script>                <div id=\"285e81fa-5959-4838-87b5-a7ae2e3755d5\" class=\"plotly-graph-div\" style=\"height:525px; width:100%;\"></div>            <script type=\"text/javascript\">                                    window.PLOTLYENV=window.PLOTLYENV || {};                                    if (document.getElementById(\"285e81fa-5959-4838-87b5-a7ae2e3755d5\")) {                    Plotly.newPlot(                        \"285e81fa-5959-4838-87b5-a7ae2e3755d5\",                        [{\"hovertemplate\":\"<b>%{hovertext}</b><br><br>X=%{x}<br>Y=%{y}<extra></extra>\",\"hovertext\":[\"BNO-01\",\"BNO-02\",\"BNO-03\",\"BNO-04\",\"BNO-05\",\"BNO-06\",\"BNW-01\",\"BNW-02\",\"BNW-03\",\"BNW-04\",\"BNW-05\",\"BNW-06\",\"BNW-07\",\"BNW-08\",\"BNW-09\",\"BNW-10\",\"BNW-11\",\"BNW-12\",\"BNW-13\",\"BNW-14\",\"BO-01\",\"BO-02\",\"BO-03\",\"BO-04\",\"BO-05\",\"BO-06\",\"BO-07\",\"BO-08\",\"BO-09\",\"BO-10\",\"BO-11\",\"BO-12\",\"BO-13\",\"BO-14\",\"BO-15\",\"BO-16\",\"BO-17\",\"BO-18\",\"BO-19\",\"BO-20\",\"BO-21\",\"BO-22\",\"BO-23\",\"BO-24\",\"BO-25\",\"BO-26\",\"BO-27\",\"BO-28\",\"BO-29\",\"BO-30\",\"BO-31\",\"BO-32\",\"BO-33\",\"BO-34\",\"BO-35\",\"BO-36\",\"BO-37\",\"BO-38\",\"BO-39\",\"BO-40\",\"BO-41\",\"BO-42\",\"BO-43\",\"BO-44\",\"BO-45\",\"BSO-01\",\"BSO-02\",\"BSO-03\",\"BSW-01\",\"BSW-02\",\"BSW-03\",\"BSW-04\",\"BTN-01\",\"BTN-02\",\"BTN-03\",\"BTN-04\",\"BTN-05\",\"BTN-06\",\"BTN-07\",\"BTN-08\",\"BTN-09\",\"BTO-01\",\"BTO-02\",\"BTO-03\",\"BTO-04\",\"BTO-05\",\"BTO-06\",\"BTO-07\",\"BTO-08\",\"BTO-09\",\"BTO-10\",\"BTO-11\",\"BTO-12\",\"BTO-13\",\"BTO-14\",\"BTS-01\",\"BTS-02\",\"BTS-03\",\"BTS-04\",\"BTS-05\",\"BTS-06\",\"BTS-07\",\"BTS-08\",\"BTS-09\",\"BTW-01\",\"BTW-02\",\"BTW-03\",\"BTW-04\",\"BTW-05\",\"BTW-06\",\"BTW-07\",\"BTW-08\",\"BTW-09\",\"BTW-10\",\"BTW-11\",\"BTW-12\",\"BTW-13\",\"BW-01\",\"BW-02\",\"BW-03\",\"BW-04\",\"BW-05\",\"BW-06\",\"BW-07\",\"BW-08\",\"BW-09\",\"BW-10\",\"BW-11\",\"BW-12\",\"BW-13\",\"BW-14\",\"BW-15\",\"BW-16\",\"BW-17\",\"BW-18\",\"BW-19\",\"BW-20\",\"BW-21\",\"BW-22\",\"BW-23\",\"BW-24\",\"BW-25\",\"BW-26\",\"BW-27\",\"BW-28\",\"BW-29\",\"BW-30\",\"BW-31\",\"BW-32\",\"BW-33\",\"BW-34\",\"BW-35\",\"BW-36\",\"BW-37\",\"BW-38\",\"BW-39\",\"BW-40\",\"BW-41\",\"BW-42\",\"KIE-01\",\"KIE-02\",\"KIE-03\",\"KIE-04\",\"KIE-05\",\"KIE-06\",\"KIE-07\",\"KIE-08\"],\"legendgroup\":\"\",\"marker\":{\"color\":\"#636efa\",\"symbol\":\"circle\"},\"mode\":\"markers\",\"name\":\"\",\"orientation\":\"v\",\"showlegend\":false,\"x\":[3452904.9325,3452905.9285,3452906.9556,3452908.5985,3452923.9802,3452925.5192,3452890.0386,3452888.9609,3452887.4752,3452886.0802,3452884.6851,3452883.4668,3452882.4251,3452881.3833,3452881.56,3452882.955,3452884.35,3452885.5684,3452886.6101,3452887.6518,3452926.4239,3452926.0147,3452925.6055,3452925.1964,3452924.7872,3452924.378,3452923.8091,3452922.8065,3452921.804,3452921.7476,3452922.7504,3452923.7532,3452924.756,3452925.7588,3452926.7616,3452927.7391,3452928.7416,3452929.7442,3452930.7449,3452931.2002,3452931.6554,3452932.1107,3452932.566,3452933.0213,3452933.4766,3452933.9319,3452934.3872,3452934.8425,3452935.2978,3452935.7531,3452936.2084,3452936.6636,3452937.1189,3452937.5742,3452938.0295,3452938.4848,3452938.9401,3452939.3954,3452939.8507,3452940.306,3452940.7613,3452941.2029,3452940.9883,3452939.751,3452938.5172,3452921.9307,3452920.6478,3452919.5309,3452903.2991,3452902.3042,3452901.3092,3452900.3142,3452910.1366,3452911.6747,3452913.2127,3452914.7508,3452916.2893,3452917.827,3452919.365,3452920.9031,3452922.4412,3452923.7239,3452924.7495,3452925.775,3452926.8006,3452927.8261,3452928.8517,3452929.8772,3452930.9028,3452931.9284,3452932.9539,3452933.9795,3452935.005,3452936.0306,3452937.0561,3452923.4688,3452925.0069,3452926.5449,3452928.083,3452929.6211,3452931.1592,3452932.6973,3452934.2353,3452935.7734,3452909.8803,3452910.9059,3452911.9314,3452912.957,3452913.9825,3452915.0081,3452916.0336,3452917.0592,3452918.0848,3452919.1103,3452920.1359,3452921.1614,3452922.187,3452899.4386,3452898.2446,3452897.0506,3452896.9579,3452897.8659,3452898.7739,3452898.681,3452897.487,3452896.293,3452895.0991,3452893.9051,3452892.7111,3452891.7308,3452890.8454,3452889.9601,3452889.0747,3452888.1894,3452887.3041,3452886.4187,3452885.5334,3452884.648,3452883.7627,3452882.8774,3452881.992,3452881.1067,3452880.2213,3452879.336,3452878.4507,3452877.5653,3452876.68,3452875.7946,3452874.9093,3452874.024,3452873.1386,3452872.2533,3452872.366,3452873.472,3452874.5779,3452875.6839,3452876.7899,3452878.2898,3452879.7897,3452908.8548,3452910.9059,3452922.6984,3452924.7495,3452921.1614,3452923.2125,3452935.005,3452938.0817],\"xaxis\":\"x\",\"y\":[5526301.9347,5526302.692,5526303.4022,5526304.5383,5526315.1748,5526316.239,5526289.2258,5526288.5924,5526287.655,5526286.707,5526285.759,5526286.0514,5526287.5843,5526289.1171,5526290.3576,5526291.3056,5526292.2536,5526291.9612,5526290.4284,5526288.8955,5526316.8647,5526318.1492,5526319.4337,5526320.7182,5526322.0027,5526323.2872,5526324.4565,5526325.5723,5526326.688,5526327.6457,5526328.5467,5526329.4478,5526330.3488,5526331.2499,5526332.151,5526332.1852,5526331.0694,5526329.9537,5526328.84,5526327.4108,5526325.9816,5526324.5523,5526323.1231,5526321.6939,5526320.2646,5526318.8354,5526317.4062,5526315.9769,5526314.5477,5526313.1185,5526311.6892,5526310.26,5526308.8308,5526307.4015,5526305.9723,5526304.5431,5526303.1138,5526301.6846,5526300.2554,5526298.8261,5526297.3969,5526295.9828,5526295.006,5526294.1581,5526293.305,5526284.2103,5526283.3232,5526282.7619,5526271.9871,5526271.2305,5526270.4738,5526269.7172,5526305.6019,5526306.6655,5526307.7291,5526308.7927,5526309.8566,5526310.9198,5526311.9834,5526313.047,5526314.1106,5526313.8612,5526312.2975,5526310.7338,5526309.1701,5526307.6064,5526306.0427,5526304.479,5526302.9153,5526301.3516,5526299.7879,5526298.2242,5526296.6605,5526295.0968,5526293.5331,5526285.2739,5526286.3375,5526287.4011,5526288.4646,5526289.5282,5526290.5918,5526291.6554,5526292.719,5526293.7826,5526304.2883,5526302.7246,5526301.1609,5526299.5972,5526298.0335,5526296.4698,5526294.9061,5526293.3424,5526291.7787,5526290.215,5526288.6513,5526287.0876,5526285.5239,5526269.0513,5526268.1434,5526267.2354,5526266.2257,5526265.0317,5526263.8377,5526262.8283,5526261.9203,5526261.0123,5526260.1044,5526259.1964,5526258.2884,5526258.4914,5526259.7023,5526260.9131,5526262.124,5526263.3349,5526264.5457,5526265.7566,5526266.9674,5526268.1783,5526269.3891,5526270.6,5526271.8108,5526273.0217,5526274.2326,5526275.4434,5526276.6543,5526277.8651,5526279.076,5526280.2868,5526281.4977,5526282.7085,5526283.9194,5526285.1303,5526286.1247,5526287.1381,5526288.1514,5526289.1647,5526290.178,5526290.1605,5526290.1431,5526305.852,5526302.7246,5526315.4249,5526312.2975,5526287.0876,5526283.9602,5526296.6605,5526291.9694],\"yaxis\":\"y\",\"type\":\"scatter\"}],                        {\"template\":{\"data\":{\"histogram2dcontour\":[{\"type\":\"histogram2dcontour\",\"colorbar\":{\"outlinewidth\":0,\"ticks\":\"\"},\"colorscale\":[[0.0,\"#0d0887\"],[0.1111111111111111,\"#46039f\"],[0.2222222222222222,\"#7201a8\"],[0.3333333333333333,\"#9c179e\"],[0.4444444444444444,\"#bd3786\"],[0.5555555555555556,\"#d8576b\"],[0.6666666666666666,\"#ed7953\"],[0.7777777777777778,\"#fb9f3a\"],[0.8888888888888888,\"#fdca26\"],[1.0,\"#f0f921\"]]}],\"choropleth\":[{\"type\":\"choropleth\",\"colorbar\":{\"outlinewidth\":0,\"ticks\":\"\"}}],\"histogram2d\":[{\"type\":\"histogram2d\",\"colorbar\":{\"outlinewidth\":0,\"ticks\":\"\"},\"colorscale\":[[0.0,\"#0d0887\"],[0.1111111111111111,\"#46039f\"],[0.2222222222222222,\"#7201a8\"],[0.3333333333333333,\"#9c179e\"],[0.4444444444444444,\"#bd3786\"],[0.5555555555555556,\"#d8576b\"],[0.6666666666666666,\"#ed7953\"],[0.7777777777777778,\"#fb9f3a\"],[0.8888888888888888,\"#fdca26\"],[1.0,\"#f0f921\"]]}],\"heatmap\":[{\"type\":\"heatmap\",\"colorbar\":{\"outlinewidth\":0,\"ticks\":\"\"},\"colorscale\":[[0.0,\"#0d0887\"],[0.1111111111111111,\"#46039f\"],[0.2222222222222222,\"#7201a8\"],[0.3333333333333333,\"#9c179e\"],[0.4444444444444444,\"#bd3786\"],[0.5555555555555556,\"#d8576b\"],[0.6666666666666666,\"#ed7953\"],[0.7777777777777778,\"#fb9f3a\"],[0.8888888888888888,\"#fdca26\"],[1.0,\"#f0f921\"]]}],\"heatmapgl\":[{\"type\":\"heatmapgl\",\"colorbar\":{\"outlinewidth\":0,\"ticks\":\"\"},\"colorscale\":[[0.0,\"#0d0887\"],[0.1111111111111111,\"#46039f\"],[0.2222222222222222,\"#7201a8\"],[0.3333333333333333,\"#9c179e\"],[0.4444444444444444,\"#bd3786\"],[0.5555555555555556,\"#d8576b\"],[0.6666666666666666,\"#ed7953\"],[0.7777777777777778,\"#fb9f3a\"],[0.8888888888888888,\"#fdca26\"],[1.0,\"#f0f921\"]]}],\"contourcarpet\":[{\"type\":\"contourcarpet\",\"colorbar\":{\"outlinewidth\":0,\"ticks\":\"\"}}],\"contour\":[{\"type\":\"contour\",\"colorbar\":{\"outlinewidth\":0,\"ticks\":\"\"},\"colorscale\":[[0.0,\"#0d0887\"],[0.1111111111111111,\"#46039f\"],[0.2222222222222222,\"#7201a8\"],[0.3333333333333333,\"#9c179e\"],[0.4444444444444444,\"#bd3786\"],[0.5555555555555556,\"#d8576b\"],[0.6666666666666666,\"#ed7953\"],[0.7777777777777778,\"#fb9f3a\"],[0.8888888888888888,\"#fdca26\"],[1.0,\"#f0f921\"]]}],\"surface\":[{\"type\":\"surface\",\"colorbar\":{\"outlinewidth\":0,\"ticks\":\"\"},\"colorscale\":[[0.0,\"#0d0887\"],[0.1111111111111111,\"#46039f\"],[0.2222222222222222,\"#7201a8\"],[0.3333333333333333,\"#9c179e\"],[0.4444444444444444,\"#bd3786\"],[0.5555555555555556,\"#d8576b\"],[0.6666666666666666,\"#ed7953\"],[0.7777777777777778,\"#fb9f3a\"],[0.8888888888888888,\"#fdca26\"],[1.0,\"#f0f921\"]]}],\"mesh3d\":[{\"type\":\"mesh3d\",\"colorbar\":{\"outlinewidth\":0,\"ticks\":\"\"}}],\"scatter\":[{\"fillpattern\":{\"fillmode\":\"overlay\",\"size\":10,\"solidity\":0.2},\"type\":\"scatter\"}],\"parcoords\":[{\"type\":\"parcoords\",\"line\":{\"colorbar\":{\"outlinewidth\":0,\"ticks\":\"\"}}}],\"scatterpolargl\":[{\"type\":\"scatterpolargl\",\"marker\":{\"colorbar\":{\"outlinewidth\":0,\"ticks\":\"\"}}}],\"bar\":[{\"error_x\":{\"color\":\"#2a3f5f\"},\"error_y\":{\"color\":\"#2a3f5f\"},\"marker\":{\"line\":{\"color\":\"#E5ECF6\",\"width\":0.5},\"pattern\":{\"fillmode\":\"overlay\",\"size\":10,\"solidity\":0.2}},\"type\":\"bar\"}],\"scattergeo\":[{\"type\":\"scattergeo\",\"marker\":{\"colorbar\":{\"outlinewidth\":0,\"ticks\":\"\"}}}],\"scatterpolar\":[{\"type\":\"scatterpolar\",\"marker\":{\"colorbar\":{\"outlinewidth\":0,\"ticks\":\"\"}}}],\"histogram\":[{\"marker\":{\"pattern\":{\"fillmode\":\"overlay\",\"size\":10,\"solidity\":0.2}},\"type\":\"histogram\"}],\"scattergl\":[{\"type\":\"scattergl\",\"marker\":{\"colorbar\":{\"outlinewidth\":0,\"ticks\":\"\"}}}],\"scatter3d\":[{\"type\":\"scatter3d\",\"line\":{\"colorbar\":{\"outlinewidth\":0,\"ticks\":\"\"}},\"marker\":{\"colorbar\":{\"outlinewidth\":0,\"ticks\":\"\"}}}],\"scattermapbox\":[{\"type\":\"scattermapbox\",\"marker\":{\"colorbar\":{\"outlinewidth\":0,\"ticks\":\"\"}}}],\"scatterternary\":[{\"type\":\"scatterternary\",\"marker\":{\"colorbar\":{\"outlinewidth\":0,\"ticks\":\"\"}}}],\"scattercarpet\":[{\"type\":\"scattercarpet\",\"marker\":{\"colorbar\":{\"outlinewidth\":0,\"ticks\":\"\"}}}],\"carpet\":[{\"aaxis\":{\"endlinecolor\":\"#2a3f5f\",\"gridcolor\":\"white\",\"linecolor\":\"white\",\"minorgridcolor\":\"white\",\"startlinecolor\":\"#2a3f5f\"},\"baxis\":{\"endlinecolor\":\"#2a3f5f\",\"gridcolor\":\"white\",\"linecolor\":\"white\",\"minorgridcolor\":\"white\",\"startlinecolor\":\"#2a3f5f\"},\"type\":\"carpet\"}],\"table\":[{\"cells\":{\"fill\":{\"color\":\"#EBF0F8\"},\"line\":{\"color\":\"white\"}},\"header\":{\"fill\":{\"color\":\"#C8D4E3\"},\"line\":{\"color\":\"white\"}},\"type\":\"table\"}],\"barpolar\":[{\"marker\":{\"line\":{\"color\":\"#E5ECF6\",\"width\":0.5},\"pattern\":{\"fillmode\":\"overlay\",\"size\":10,\"solidity\":0.2}},\"type\":\"barpolar\"}],\"pie\":[{\"automargin\":true,\"type\":\"pie\"}]},\"layout\":{\"autotypenumbers\":\"strict\",\"colorway\":[\"#636efa\",\"#EF553B\",\"#00cc96\",\"#ab63fa\",\"#FFA15A\",\"#19d3f3\",\"#FF6692\",\"#B6E880\",\"#FF97FF\",\"#FECB52\"],\"font\":{\"color\":\"#2a3f5f\"},\"hovermode\":\"closest\",\"hoverlabel\":{\"align\":\"left\"},\"paper_bgcolor\":\"white\",\"plot_bgcolor\":\"#E5ECF6\",\"polar\":{\"bgcolor\":\"#E5ECF6\",\"angularaxis\":{\"gridcolor\":\"white\",\"linecolor\":\"white\",\"ticks\":\"\"},\"radialaxis\":{\"gridcolor\":\"white\",\"linecolor\":\"white\",\"ticks\":\"\"}},\"ternary\":{\"bgcolor\":\"#E5ECF6\",\"aaxis\":{\"gridcolor\":\"white\",\"linecolor\":\"white\",\"ticks\":\"\"},\"baxis\":{\"gridcolor\":\"white\",\"linecolor\":\"white\",\"ticks\":\"\"},\"caxis\":{\"gridcolor\":\"white\",\"linecolor\":\"white\",\"ticks\":\"\"}},\"coloraxis\":{\"colorbar\":{\"outlinewidth\":0,\"ticks\":\"\"}},\"colorscale\":{\"sequential\":[[0.0,\"#0d0887\"],[0.1111111111111111,\"#46039f\"],[0.2222222222222222,\"#7201a8\"],[0.3333333333333333,\"#9c179e\"],[0.4444444444444444,\"#bd3786\"],[0.5555555555555556,\"#d8576b\"],[0.6666666666666666,\"#ed7953\"],[0.7777777777777778,\"#fb9f3a\"],[0.8888888888888888,\"#fdca26\"],[1.0,\"#f0f921\"]],\"sequentialminus\":[[0.0,\"#0d0887\"],[0.1111111111111111,\"#46039f\"],[0.2222222222222222,\"#7201a8\"],[0.3333333333333333,\"#9c179e\"],[0.4444444444444444,\"#bd3786\"],[0.5555555555555556,\"#d8576b\"],[0.6666666666666666,\"#ed7953\"],[0.7777777777777778,\"#fb9f3a\"],[0.8888888888888888,\"#fdca26\"],[1.0,\"#f0f921\"]],\"diverging\":[[0,\"#8e0152\"],[0.1,\"#c51b7d\"],[0.2,\"#de77ae\"],[0.3,\"#f1b6da\"],[0.4,\"#fde0ef\"],[0.5,\"#f7f7f7\"],[0.6,\"#e6f5d0\"],[0.7,\"#b8e186\"],[0.8,\"#7fbc41\"],[0.9,\"#4d9221\"],[1,\"#276419\"]]},\"xaxis\":{\"gridcolor\":\"white\",\"linecolor\":\"white\",\"ticks\":\"\",\"title\":{\"standoff\":15},\"zerolinecolor\":\"white\",\"automargin\":true,\"zerolinewidth\":2},\"yaxis\":{\"gridcolor\":\"white\",\"linecolor\":\"white\",\"ticks\":\"\",\"title\":{\"standoff\":15},\"zerolinecolor\":\"white\",\"automargin\":true,\"zerolinewidth\":2},\"scene\":{\"xaxis\":{\"backgroundcolor\":\"#E5ECF6\",\"gridcolor\":\"white\",\"linecolor\":\"white\",\"showbackground\":true,\"ticks\":\"\",\"zerolinecolor\":\"white\",\"gridwidth\":2},\"yaxis\":{\"backgroundcolor\":\"#E5ECF6\",\"gridcolor\":\"white\",\"linecolor\":\"white\",\"showbackground\":true,\"ticks\":\"\",\"zerolinecolor\":\"white\",\"gridwidth\":2},\"zaxis\":{\"backgroundcolor\":\"#E5ECF6\",\"gridcolor\":\"white\",\"linecolor\":\"white\",\"showbackground\":true,\"ticks\":\"\",\"zerolinecolor\":\"white\",\"gridwidth\":2}},\"shapedefaults\":{\"line\":{\"color\":\"#2a3f5f\"}},\"annotationdefaults\":{\"arrowcolor\":\"#2a3f5f\",\"arrowhead\":0,\"arrowwidth\":1},\"geo\":{\"bgcolor\":\"white\",\"landcolor\":\"#E5ECF6\",\"subunitcolor\":\"white\",\"showland\":true,\"showlakes\":true,\"lakecolor\":\"white\"},\"title\":{\"x\":0.05},\"mapbox\":{\"style\":\"light\"}}},\"xaxis\":{\"anchor\":\"y\",\"domain\":[0.0,1.0],\"title\":{\"text\":\"X\"}},\"yaxis\":{\"anchor\":\"x\",\"domain\":[0.0,1.0],\"title\":{\"text\":\"Y\"}},\"legend\":{\"tracegroupgap\":0},\"margin\":{\"t\":60}},                        {\"responsive\": true}                    ).then(function(){\n                            \nvar gd = document.getElementById('285e81fa-5959-4838-87b5-a7ae2e3755d5');\nvar x = new MutationObserver(function (mutations, observer) {{\n        var display = window.getComputedStyle(gd).display;\n        if (!display || display === 'none') {{\n            console.log([gd, 'removed!']);\n            Plotly.purge(gd);\n            observer.disconnect();\n        }}\n}});\n\n// Listen for the removal of the full notebook cells\nvar notebookContainer = gd.closest('#notebook-container');\nif (notebookContainer) {{\n    x.observe(notebookContainer, {childList: true});\n}}\n\n// Listen for the clearing of the current output cell\nvar outputEl = gd.closest('.output');\nif (outputEl) {{\n    x.observe(outputEl, {childList: true});\n}}\n\n                        })                };                            </script>        </div>\n</body>\n</html>"
     },
     "metadata": {},
     "output_type": "display_data"
    }
   ]
  },
  {
   "cell_type": "code",
   "source": "# https://blog.finxter.com/how-to-create-an-interactive-web-application-using-jupyter-notebook/\nprint('Now choose a GK Zone. To determine if a GK zone is 2,3, 4 or 5,' +\n    'look at the first number in the Easting/Rechtswert column')\nprint('First number in Easting is: ' + str(tbl['X'][0])[0])\n\ndef function(option):\n    print(option)\n\nw = widgets.Dropdown(\n    options=['GK Zone 2 - epsg:31466', 'GK Zone 3 - epsg:31467',\n    'GK Zone 4 - epsg:31468', 'GK Zone 5 - epsg:31469'],\n    value=None,\n    description='Source system:',\n)\n\nw.observe(\n    lambda c: plot_content(c['new']) if (c['type'] == 'change' and c['name'] == 'value') else None\n)\n\ndisplay(w)",
   "metadata": {
    "cell_id": "6bd45b8e4c384725998b7933f96ccf24",
    "tags": [],
    "deepnote_to_be_reexecuted": false,
    "source_hash": "252c7cdb",
    "execution_start": 1659687509153,
    "execution_millis": 11,
    "deepnote_cell_type": "code",
    "deepnote_cell_height": 531.375
   },
   "outputs": [
    {
     "name": "stdout",
     "text": "Now choose a GK Zone. To determine if a GK zone is 2,3, 4 or 5,look at the first number in the Easting/Rechtswert column\nFirst number in Easting is: 3\n",
     "output_type": "stream"
    },
    {
     "data": {
      "text/plain": "Dropdown(description='Source system:', options=('GK Zone 2 - epsg:31466', 'GK Zone 3 - epsg:31467', 'GK Zone 4…",
      "application/vnd.jupyter.widget-view+json": {
       "version_major": 2,
       "version_minor": 0,
       "model_id": "19c205429adb4b8ab577b9f2d09cb99d"
      }
     },
     "metadata": {},
     "output_type": "display_data"
    }
   ],
   "execution_count": null
  },
  {
   "cell_type": "code",
   "source": "print('Now choose a GK Zone. To determine if a GK zone is 2,3, 4 or 5,' +\n    'look at the first number in the Easting/Rechtswert column')\nprint('First number in Easting is: ' + str(tbl['X'][0])[0])",
   "metadata": {
    "cell_id": "0860251fe8424205a1fb50a12ff1c97b",
    "tags": [],
    "deepnote_to_be_reexecuted": false,
    "source_hash": "78fff664",
    "execution_start": 1659689864746,
    "execution_millis": 196,
    "deepnote_app_coordinates": {
     "x": 0,
     "y": 80,
     "w": 12,
     "h": 7
    },
    "deepnote_cell_type": "code",
    "deepnote_cell_height": 163.375
   },
   "outputs": [
    {
     "name": "stdout",
     "text": "Now choose a GK Zone. To determine if a GK zone is 2,3, 4 or 5,look at the first number in the Easting/Rechtswert column\nFirst number in Easting is: 3\n",
     "output_type": "stream"
    }
   ],
   "execution_count": null
  },
  {
   "cell_type": "code",
   "metadata": {
    "cell_id": "598ea97f8b774bf983e6ee8a6b7900a1",
    "deepnote_variable_name": "sourcesys",
    "deepnote_variable_value": "GK Zone 2 - epsg:31466",
    "deepnote_variable_options": [
     "GK Zone 2 - epsg:31466",
     "GK Zone 3 - epsg:31467",
     "GK Zone 4 - epsg:31468",
     "GK Zone 5 - epsg:31469"
    ],
    "deepnote_variable_custom_options": [
     "GK Zone 2 - epsg:31466",
     "GK Zone 3 - epsg:31467",
     "GK Zone 4 - epsg:31468",
     "GK Zone 5 - epsg:31469"
    ],
    "deepnote_variable_selected_variable": "",
    "deepnote_variable_select_type": "from-options",
    "deepnote_to_be_reexecuted": false,
    "source_hash": "38db11a2",
    "execution_start": 1659689734917,
    "execution_millis": 1,
    "deepnote_app_coordinates": {
     "x": 0,
     "y": 88,
     "w": 8,
     "h": 4
    },
    "deepnote_cell_type": "input-select"
   },
   "source": "sourcesys = 'GK Zone 2 - epsg:31466'",
   "outputs": [],
   "execution_count": null
  },
  {
   "cell_type": "code",
   "source": "#if w.value != None:\n#    source = w.value[w.value.find('epsg')::]\nsource = sourcesys[sourcesys.find('epsg')::]\nproj_target = CRS.from_string(\"epsg:4326\")  # wgs84\nproj_source = CRS.from_string(source)  # source system\n# for austrian system, Y and X are the normal ones.\n# For german, Y=Hochwert is cartesian X, X=Rechtswert is cartesian Y\nx = tbl['Y']; y = tbl['X']\ntransformer = Transformer.from_crs(proj_source, proj_target)\n(nx, ny) = transformer.transform(x, y)\nnx = np.array(nx)[np.newaxis]; nx = nx.T; ny = np.array(ny)[np.newaxis]; ny = ny.T\nnew_coord = pd.DataFrame(data=nx, index=piles, columns=['North']); new_coord['East'] = ny;\nnew_coord['Pfahl'] = ''; new_coord['Pfahl'].iloc[0:] = piles\nnew_coord = new_coord[['Pfahl','North', 'East']]\nprint(str(new_coord['North'].iloc[0]) + ',' + str(new_coord['East'].iloc[0]))\n# plot data\nfig2 = px.scatter(new_coord,\n            x=new_coord.columns[2],\n            y=new_coord.columns[1],\n            #color=\"region\",\n            hover_name=new_coord.columns[0],\n            #animation_frame = new_coord.columns[0]\n)\nfig2.show(renderer=\"colab\")\n#new_coord.plot(x='North', y='East', kind=\"scatter\",colormap=\"YlOrRd\")",
   "metadata": {
    "cell_id": "b6c77b14b264453786f1b82ab1cc9499",
    "tags": [],
    "deepnote_to_be_reexecuted": false,
    "source_hash": "b0e7bcf0",
    "execution_start": 1659687472907,
    "execution_millis": 2412,
    "deepnote_app_coordinates": {
     "x": 0,
     "y": 93,
     "w": 12,
     "h": 49
    },
    "deepnote_cell_type": "code",
    "deepnote_cell_height": 1242.5,
    "deepnote_output_heights": [
     null,
     527
    ]
   },
   "outputs": [
    {
     "name": "stderr",
     "text": "/shared-libs/python3.9/py/lib/python3.9/site-packages/pandas/core/indexing.py:1637: SettingWithCopyWarning:\n\n\nA value is trying to be set on a copy of a slice from a DataFrame\n\nSee the caveats in the documentation: https://pandas.pydata.org/pandas-docs/stable/user_guide/indexing.html#returning-a-view-versus-a-copy\n\n49.87133359552492,8.343832778290398\n",
     "output_type": "stream"
    },
    {
     "data": {
      "text/html": "<html>\n<head><meta charset=\"utf-8\" /></head>\n<body>\n    <div>            <script src=\"https://cdnjs.cloudflare.com/ajax/libs/mathjax/2.7.5/MathJax.js?config=TeX-AMS-MML_SVG\"></script><script type=\"text/javascript\">if (window.MathJax && window.MathJax.Hub && window.MathJax.Hub.Config) {window.MathJax.Hub.Config({SVG: {font: \"STIX-Web\"}});}</script>                <script type=\"text/javascript\">window.PlotlyConfig = {MathJaxConfig: 'local'};</script>\n        <script src=\"https://cdn.plot.ly/plotly-2.12.1.min.js\"></script>                <div id=\"aba9f78f-758d-4299-9a53-a946549ea261\" class=\"plotly-graph-div\" style=\"height:525px; width:100%;\"></div>            <script type=\"text/javascript\">                                    window.PLOTLYENV=window.PLOTLYENV || {};                                    if (document.getElementById(\"aba9f78f-758d-4299-9a53-a946549ea261\")) {                    Plotly.newPlot(                        \"aba9f78f-758d-4299-9a53-a946549ea261\",                        [{\"hovertemplate\":\"<b>%{hovertext}</b><br><br>East=%{x}<br>North=%{y}<extra></extra>\",\"hovertext\":[\"BNO-01\",\"BNO-02\",\"BNO-03\",\"BNO-04\",\"BNO-05\",\"BNO-06\",\"BNW-01\",\"BNW-02\",\"BNW-03\",\"BNW-04\",\"BNW-05\",\"BNW-06\",\"BNW-07\",\"BNW-08\",\"BNW-09\",\"BNW-10\",\"BNW-11\",\"BNW-12\",\"BNW-13\",\"BNW-14\",\"BO-01\",\"BO-02\",\"BO-03\",\"BO-04\",\"BO-05\",\"BO-06\",\"BO-07\",\"BO-08\",\"BO-09\",\"BO-10\",\"BO-11\",\"BO-12\",\"BO-13\",\"BO-14\",\"BO-15\",\"BO-16\",\"BO-17\",\"BO-18\",\"BO-19\",\"BO-20\",\"BO-21\",\"BO-22\",\"BO-23\",\"BO-24\",\"BO-25\",\"BO-26\",\"BO-27\",\"BO-28\",\"BO-29\",\"BO-30\",\"BO-31\",\"BO-32\",\"BO-33\",\"BO-34\",\"BO-35\",\"BO-36\",\"BO-37\",\"BO-38\",\"BO-39\",\"BO-40\",\"BO-41\",\"BO-42\",\"BO-43\",\"BO-44\",\"BO-45\",\"BSO-01\",\"BSO-02\",\"BSO-03\",\"BSW-01\",\"BSW-02\",\"BSW-03\",\"BSW-04\",\"BTN-01\",\"BTN-02\",\"BTN-03\",\"BTN-04\",\"BTN-05\",\"BTN-06\",\"BTN-07\",\"BTN-08\",\"BTN-09\",\"BTO-01\",\"BTO-02\",\"BTO-03\",\"BTO-04\",\"BTO-05\",\"BTO-06\",\"BTO-07\",\"BTO-08\",\"BTO-09\",\"BTO-10\",\"BTO-11\",\"BTO-12\",\"BTO-13\",\"BTO-14\",\"BTS-01\",\"BTS-02\",\"BTS-03\",\"BTS-04\",\"BTS-05\",\"BTS-06\",\"BTS-07\",\"BTS-08\",\"BTS-09\",\"BTW-01\",\"BTW-02\",\"BTW-03\",\"BTW-04\",\"BTW-05\",\"BTW-06\",\"BTW-07\",\"BTW-08\",\"BTW-09\",\"BTW-10\",\"BTW-11\",\"BTW-12\",\"BTW-13\",\"BW-01\",\"BW-02\",\"BW-03\",\"BW-04\",\"BW-05\",\"BW-06\",\"BW-07\",\"BW-08\",\"BW-09\",\"BW-10\",\"BW-11\",\"BW-12\",\"BW-13\",\"BW-14\",\"BW-15\",\"BW-16\",\"BW-17\",\"BW-18\",\"BW-19\",\"BW-20\",\"BW-21\",\"BW-22\",\"BW-23\",\"BW-24\",\"BW-25\",\"BW-26\",\"BW-27\",\"BW-28\",\"BW-29\",\"BW-30\",\"BW-31\",\"BW-32\",\"BW-33\",\"BW-34\",\"BW-35\",\"BW-36\",\"BW-37\",\"BW-38\",\"BW-39\",\"BW-40\",\"BW-41\",\"BW-42\",\"KIE-01\",\"KIE-02\",\"KIE-03\",\"KIE-04\",\"KIE-05\",\"KIE-06\",\"KIE-07\",\"KIE-08\"],\"legendgroup\":\"\",\"marker\":{\"color\":\"#636efa\",\"symbol\":\"circle\"},\"mode\":\"markers\",\"name\":\"\",\"orientation\":\"v\",\"showlegend\":false,\"x\":[8.343832778290398,8.343846540308933,8.343860740657991,8.343883454852637,8.344096117678584,8.344117395486329,8.343627153982538,8.343612240519013,8.343591688878261,8.34357240015142,8.343553110040485,8.343536128171756,8.343521451739678,8.343506773920474,8.343509080748136,8.343528369476465,8.34354765821169,8.343564641490422,8.343579317910267,8.343593994333965,8.344129903620214,8.344124055467454,8.344118207311888,8.344112360544498,8.344106512383325,8.344100664219344,8.344092608659352,8.34407852689166,8.344064446521333,8.344063545502244,8.344077384726369,8.344091223943018,8.344105063176496,8.344118902402487,8.344132741633159,8.344146334391537,8.344160414771899,8.3441744965253,8.344188551600878,8.344195058594542,8.344201564193742,8.34420807119262,8.344214578175867,8.34422108515564,8.3442275921441,8.344234099116928,8.344240606086283,8.34424711306432,8.344253620026732,8.34426012698567,8.344266633953293,8.344273139514307,8.34427964646283,8.344286153420036,8.344292660361614,8.34429916729972,8.344305674246504,8.344312181177665,8.344318688105353,8.344325195041728,8.34433170196247,8.344338016479412,8.344335150211828,8.344318042725698,8.34430098456163,8.344071376143235,8.344053639217528,8.344038171684414,8.343813702415693,8.343799955695504,8.343786207600425,8.343772459497083,8.343904720129274,8.343925985414433,8.343947249317132,8.343968514619336,8.343989785457495,8.344011045261473,8.344032309198264,8.344053574534556,8.344074839879367,8.344092712373648,8.34410716851613,8.344121623259259,8.34413607938501,8.34415053411141,8.344164990220424,8.344179444930093,8.344193901022376,8.3442083571063,8.344222811790871,8.344237267858055,8.344251722525897,8.344266178576357,8.344280633227472,8.34409264137834,8.344113906621967,8.344135170483144,8.344156435755977,8.34417770102517,8.344198966302885,8.344220231589125,8.344241495492904,8.344262760796186,8.34390131487707,8.343915771048307,8.343930225820195,8.34394468197469,8.343959136729847,8.343973592867618,8.343988047606043,8.344002503727085,8.344016959839749,8.344031414553076,8.34404587064902,8.34406032534562,8.34407478142483,8.343760361180584,8.343743863463441,8.343727365764106,8.343726199221562,8.343738974562715,8.343751749898225,8.343750580533333,8.343734082849036,8.343717585170364,8.343701088876129,8.343684591208726,8.343668093546956,8.343654433160713,8.34364197011893,8.343629508474711,8.343617045421782,8.343604583754235,8.343592122093286,8.343579659023614,8.343567197351517,8.343554734270695,8.34354227258744,8.343529810886439,8.343517347801058,8.3435048860889,8.343492422980187,8.343479961269056,8.34346749954016,8.343455036426896,8.343442574686856,8.343430111562435,8.343417649811235,8.343405188066642,8.343392724913315,8.343380263145383,8.343381709685232,8.343396970487678,8.343412229917115,8.34342749074334,8.343442751575354,8.343463616984158,8.343484482380788,8.343886860088451,8.343915771048307,8.344078257613791,8.34410716851613,8.34406032534562,8.344089236104695,8.344251722525897,8.34429508926119],\"xaxis\":\"x\",\"y\":[49.87133359552492,49.871340482029524,49.87134694754667,49.871357290356535,49.871454122578925,49.87146381078959,49.871218170203804,49.871212391113616,49.87120384694351,49.87119521461149,49.87118658226838,49.87118911510084,49.87120281399306,49.871216511976485,49.87122767804681,49.87123631038932,49.871244942728666,49.87124240990248,49.871228711903875,49.87121501300436,49.87146950699148,49.871481022552146,49.87149253811249,49.87150405368036,49.871515569240024,49.87152708479938,49.8715375521484,49.87154750443137,49.871557455821446,49.871566061165545,49.87157424004883,49.87158241982944,49.87159059870943,49.87159877848676,49.87160695826247,49.87160734256645,49.8715973902675,49.87158743887366,49.87157750530883,49.87156469250743,49.871551879697776,49.87153906599655,49.871526253193935,49.87151344039092,49.87150062668847,49.871487813884634,49.871475001080405,49.87146218737673,49.871449374571675,49.871436561766195,49.87142374806131,49.87141093524717,49.87139812244048,49.87138530873437,49.871372495926856,49.87135968311896,49.871346869411624,49.8713340566029,49.871321243793766,49.87130843008521,49.87129561727527,49.87128293913814,49.8712741407836,49.87126642087341,49.87125865448751,49.87117558879088,49.87116751284649,49.87116237891208,49.871064236398304,49.87105735626936,49.871050475231925,49.871043595091855,49.87136697314125,49.87137665592206,49.871386338691146,49.87139602146419,49.87140570696183,49.87141538609965,49.8714250688532,49.871434751610714,49.87144443436437,49.87144229308887,49.87142831596503,49.87141433883143,49.87140036170384,49.87138638456653,49.87137240743521,49.87135843029416,49.8713444531591,49.871330476022145,49.871316498875466,49.871302521734805,49.871288544584395,49.87127456743997,49.871260590285836,49.87118527154125,49.87119495428772,49.87120463702247,49.871214318862165,49.871224001597014,49.871233684327954,49.87124336705503,49.87125304977037,49.87126273248967,49.871355143645616,49.87134116654553,49.871327189435725,49.8713132123319,49.87129923521838,49.8712852581108,49.87127128099352,49.87125730388224,49.87124332676907,49.871229349646164,49.87121537252927,49.87120139540264,49.871187418281984,49.87103753974019,49.871029283748065,49.8710210268546,49.87101194230104,49.871001279595845,49.870990616889166,49.87098153501709,49.87097327812457,49.87096502122973,49.8709567652394,49.87094850833988,49.87094025143803,49.87094199930018,49.87095281570614,49.87096363121957,49.87097444762277,49.87098526403246,49.87099607954175,49.87100689594079,49.87101771144732,49.871028527843606,49.87103934334736,49.87105015974875,49.87106097524189,49.8710717916405,49.87108260802988,49.87109342352675,49.8711042399212,49.871115055407444,49.87112587179915,49.87113668728261,49.871147503671565,49.8711583191601,49.87116913553844,49.87117995192323,49.87118890050593,49.87119809807466,49.871207294734496,49.87121649140019,49.87122568806393,49.871225648772096,49.87122561037554,49.871369120751666,49.87134116654553,49.871456270218715,49.87142831596503,49.87120139540264,49.87117344115161,49.871288544584395,49.87124661313767],\"yaxis\":\"y\",\"type\":\"scatter\"}],                        {\"template\":{\"data\":{\"histogram2dcontour\":[{\"type\":\"histogram2dcontour\",\"colorbar\":{\"outlinewidth\":0,\"ticks\":\"\"},\"colorscale\":[[0.0,\"#0d0887\"],[0.1111111111111111,\"#46039f\"],[0.2222222222222222,\"#7201a8\"],[0.3333333333333333,\"#9c179e\"],[0.4444444444444444,\"#bd3786\"],[0.5555555555555556,\"#d8576b\"],[0.6666666666666666,\"#ed7953\"],[0.7777777777777778,\"#fb9f3a\"],[0.8888888888888888,\"#fdca26\"],[1.0,\"#f0f921\"]]}],\"choropleth\":[{\"type\":\"choropleth\",\"colorbar\":{\"outlinewidth\":0,\"ticks\":\"\"}}],\"histogram2d\":[{\"type\":\"histogram2d\",\"colorbar\":{\"outlinewidth\":0,\"ticks\":\"\"},\"colorscale\":[[0.0,\"#0d0887\"],[0.1111111111111111,\"#46039f\"],[0.2222222222222222,\"#7201a8\"],[0.3333333333333333,\"#9c179e\"],[0.4444444444444444,\"#bd3786\"],[0.5555555555555556,\"#d8576b\"],[0.6666666666666666,\"#ed7953\"],[0.7777777777777778,\"#fb9f3a\"],[0.8888888888888888,\"#fdca26\"],[1.0,\"#f0f921\"]]}],\"heatmap\":[{\"type\":\"heatmap\",\"colorbar\":{\"outlinewidth\":0,\"ticks\":\"\"},\"colorscale\":[[0.0,\"#0d0887\"],[0.1111111111111111,\"#46039f\"],[0.2222222222222222,\"#7201a8\"],[0.3333333333333333,\"#9c179e\"],[0.4444444444444444,\"#bd3786\"],[0.5555555555555556,\"#d8576b\"],[0.6666666666666666,\"#ed7953\"],[0.7777777777777778,\"#fb9f3a\"],[0.8888888888888888,\"#fdca26\"],[1.0,\"#f0f921\"]]}],\"heatmapgl\":[{\"type\":\"heatmapgl\",\"colorbar\":{\"outlinewidth\":0,\"ticks\":\"\"},\"colorscale\":[[0.0,\"#0d0887\"],[0.1111111111111111,\"#46039f\"],[0.2222222222222222,\"#7201a8\"],[0.3333333333333333,\"#9c179e\"],[0.4444444444444444,\"#bd3786\"],[0.5555555555555556,\"#d8576b\"],[0.6666666666666666,\"#ed7953\"],[0.7777777777777778,\"#fb9f3a\"],[0.8888888888888888,\"#fdca26\"],[1.0,\"#f0f921\"]]}],\"contourcarpet\":[{\"type\":\"contourcarpet\",\"colorbar\":{\"outlinewidth\":0,\"ticks\":\"\"}}],\"contour\":[{\"type\":\"contour\",\"colorbar\":{\"outlinewidth\":0,\"ticks\":\"\"},\"colorscale\":[[0.0,\"#0d0887\"],[0.1111111111111111,\"#46039f\"],[0.2222222222222222,\"#7201a8\"],[0.3333333333333333,\"#9c179e\"],[0.4444444444444444,\"#bd3786\"],[0.5555555555555556,\"#d8576b\"],[0.6666666666666666,\"#ed7953\"],[0.7777777777777778,\"#fb9f3a\"],[0.8888888888888888,\"#fdca26\"],[1.0,\"#f0f921\"]]}],\"surface\":[{\"type\":\"surface\",\"colorbar\":{\"outlinewidth\":0,\"ticks\":\"\"},\"colorscale\":[[0.0,\"#0d0887\"],[0.1111111111111111,\"#46039f\"],[0.2222222222222222,\"#7201a8\"],[0.3333333333333333,\"#9c179e\"],[0.4444444444444444,\"#bd3786\"],[0.5555555555555556,\"#d8576b\"],[0.6666666666666666,\"#ed7953\"],[0.7777777777777778,\"#fb9f3a\"],[0.8888888888888888,\"#fdca26\"],[1.0,\"#f0f921\"]]}],\"mesh3d\":[{\"type\":\"mesh3d\",\"colorbar\":{\"outlinewidth\":0,\"ticks\":\"\"}}],\"scatter\":[{\"fillpattern\":{\"fillmode\":\"overlay\",\"size\":10,\"solidity\":0.2},\"type\":\"scatter\"}],\"parcoords\":[{\"type\":\"parcoords\",\"line\":{\"colorbar\":{\"outlinewidth\":0,\"ticks\":\"\"}}}],\"scatterpolargl\":[{\"type\":\"scatterpolargl\",\"marker\":{\"colorbar\":{\"outlinewidth\":0,\"ticks\":\"\"}}}],\"bar\":[{\"error_x\":{\"color\":\"#2a3f5f\"},\"error_y\":{\"color\":\"#2a3f5f\"},\"marker\":{\"line\":{\"color\":\"#E5ECF6\",\"width\":0.5},\"pattern\":{\"fillmode\":\"overlay\",\"size\":10,\"solidity\":0.2}},\"type\":\"bar\"}],\"scattergeo\":[{\"type\":\"scattergeo\",\"marker\":{\"colorbar\":{\"outlinewidth\":0,\"ticks\":\"\"}}}],\"scatterpolar\":[{\"type\":\"scatterpolar\",\"marker\":{\"colorbar\":{\"outlinewidth\":0,\"ticks\":\"\"}}}],\"histogram\":[{\"marker\":{\"pattern\":{\"fillmode\":\"overlay\",\"size\":10,\"solidity\":0.2}},\"type\":\"histogram\"}],\"scattergl\":[{\"type\":\"scattergl\",\"marker\":{\"colorbar\":{\"outlinewidth\":0,\"ticks\":\"\"}}}],\"scatter3d\":[{\"type\":\"scatter3d\",\"line\":{\"colorbar\":{\"outlinewidth\":0,\"ticks\":\"\"}},\"marker\":{\"colorbar\":{\"outlinewidth\":0,\"ticks\":\"\"}}}],\"scattermapbox\":[{\"type\":\"scattermapbox\",\"marker\":{\"colorbar\":{\"outlinewidth\":0,\"ticks\":\"\"}}}],\"scatterternary\":[{\"type\":\"scatterternary\",\"marker\":{\"colorbar\":{\"outlinewidth\":0,\"ticks\":\"\"}}}],\"scattercarpet\":[{\"type\":\"scattercarpet\",\"marker\":{\"colorbar\":{\"outlinewidth\":0,\"ticks\":\"\"}}}],\"carpet\":[{\"aaxis\":{\"endlinecolor\":\"#2a3f5f\",\"gridcolor\":\"white\",\"linecolor\":\"white\",\"minorgridcolor\":\"white\",\"startlinecolor\":\"#2a3f5f\"},\"baxis\":{\"endlinecolor\":\"#2a3f5f\",\"gridcolor\":\"white\",\"linecolor\":\"white\",\"minorgridcolor\":\"white\",\"startlinecolor\":\"#2a3f5f\"},\"type\":\"carpet\"}],\"table\":[{\"cells\":{\"fill\":{\"color\":\"#EBF0F8\"},\"line\":{\"color\":\"white\"}},\"header\":{\"fill\":{\"color\":\"#C8D4E3\"},\"line\":{\"color\":\"white\"}},\"type\":\"table\"}],\"barpolar\":[{\"marker\":{\"line\":{\"color\":\"#E5ECF6\",\"width\":0.5},\"pattern\":{\"fillmode\":\"overlay\",\"size\":10,\"solidity\":0.2}},\"type\":\"barpolar\"}],\"pie\":[{\"automargin\":true,\"type\":\"pie\"}]},\"layout\":{\"autotypenumbers\":\"strict\",\"colorway\":[\"#636efa\",\"#EF553B\",\"#00cc96\",\"#ab63fa\",\"#FFA15A\",\"#19d3f3\",\"#FF6692\",\"#B6E880\",\"#FF97FF\",\"#FECB52\"],\"font\":{\"color\":\"#2a3f5f\"},\"hovermode\":\"closest\",\"hoverlabel\":{\"align\":\"left\"},\"paper_bgcolor\":\"white\",\"plot_bgcolor\":\"#E5ECF6\",\"polar\":{\"bgcolor\":\"#E5ECF6\",\"angularaxis\":{\"gridcolor\":\"white\",\"linecolor\":\"white\",\"ticks\":\"\"},\"radialaxis\":{\"gridcolor\":\"white\",\"linecolor\":\"white\",\"ticks\":\"\"}},\"ternary\":{\"bgcolor\":\"#E5ECF6\",\"aaxis\":{\"gridcolor\":\"white\",\"linecolor\":\"white\",\"ticks\":\"\"},\"baxis\":{\"gridcolor\":\"white\",\"linecolor\":\"white\",\"ticks\":\"\"},\"caxis\":{\"gridcolor\":\"white\",\"linecolor\":\"white\",\"ticks\":\"\"}},\"coloraxis\":{\"colorbar\":{\"outlinewidth\":0,\"ticks\":\"\"}},\"colorscale\":{\"sequential\":[[0.0,\"#0d0887\"],[0.1111111111111111,\"#46039f\"],[0.2222222222222222,\"#7201a8\"],[0.3333333333333333,\"#9c179e\"],[0.4444444444444444,\"#bd3786\"],[0.5555555555555556,\"#d8576b\"],[0.6666666666666666,\"#ed7953\"],[0.7777777777777778,\"#fb9f3a\"],[0.8888888888888888,\"#fdca26\"],[1.0,\"#f0f921\"]],\"sequentialminus\":[[0.0,\"#0d0887\"],[0.1111111111111111,\"#46039f\"],[0.2222222222222222,\"#7201a8\"],[0.3333333333333333,\"#9c179e\"],[0.4444444444444444,\"#bd3786\"],[0.5555555555555556,\"#d8576b\"],[0.6666666666666666,\"#ed7953\"],[0.7777777777777778,\"#fb9f3a\"],[0.8888888888888888,\"#fdca26\"],[1.0,\"#f0f921\"]],\"diverging\":[[0,\"#8e0152\"],[0.1,\"#c51b7d\"],[0.2,\"#de77ae\"],[0.3,\"#f1b6da\"],[0.4,\"#fde0ef\"],[0.5,\"#f7f7f7\"],[0.6,\"#e6f5d0\"],[0.7,\"#b8e186\"],[0.8,\"#7fbc41\"],[0.9,\"#4d9221\"],[1,\"#276419\"]]},\"xaxis\":{\"gridcolor\":\"white\",\"linecolor\":\"white\",\"ticks\":\"\",\"title\":{\"standoff\":15},\"zerolinecolor\":\"white\",\"automargin\":true,\"zerolinewidth\":2},\"yaxis\":{\"gridcolor\":\"white\",\"linecolor\":\"white\",\"ticks\":\"\",\"title\":{\"standoff\":15},\"zerolinecolor\":\"white\",\"automargin\":true,\"zerolinewidth\":2},\"scene\":{\"xaxis\":{\"backgroundcolor\":\"#E5ECF6\",\"gridcolor\":\"white\",\"linecolor\":\"white\",\"showbackground\":true,\"ticks\":\"\",\"zerolinecolor\":\"white\",\"gridwidth\":2},\"yaxis\":{\"backgroundcolor\":\"#E5ECF6\",\"gridcolor\":\"white\",\"linecolor\":\"white\",\"showbackground\":true,\"ticks\":\"\",\"zerolinecolor\":\"white\",\"gridwidth\":2},\"zaxis\":{\"backgroundcolor\":\"#E5ECF6\",\"gridcolor\":\"white\",\"linecolor\":\"white\",\"showbackground\":true,\"ticks\":\"\",\"zerolinecolor\":\"white\",\"gridwidth\":2}},\"shapedefaults\":{\"line\":{\"color\":\"#2a3f5f\"}},\"annotationdefaults\":{\"arrowcolor\":\"#2a3f5f\",\"arrowhead\":0,\"arrowwidth\":1},\"geo\":{\"bgcolor\":\"white\",\"landcolor\":\"#E5ECF6\",\"subunitcolor\":\"white\",\"showland\":true,\"showlakes\":true,\"lakecolor\":\"white\"},\"title\":{\"x\":0.05},\"mapbox\":{\"style\":\"light\"}}},\"xaxis\":{\"anchor\":\"y\",\"domain\":[0.0,1.0],\"title\":{\"text\":\"East\"}},\"yaxis\":{\"anchor\":\"x\",\"domain\":[0.0,1.0],\"title\":{\"text\":\"North\"}},\"legend\":{\"tracegroupgap\":0},\"margin\":{\"t\":60}},                        {\"responsive\": true}                    ).then(function(){\n                            \nvar gd = document.getElementById('aba9f78f-758d-4299-9a53-a946549ea261');\nvar x = new MutationObserver(function (mutations, observer) {{\n        var display = window.getComputedStyle(gd).display;\n        if (!display || display === 'none') {{\n            console.log([gd, 'removed!']);\n            Plotly.purge(gd);\n            observer.disconnect();\n        }}\n}});\n\n// Listen for the removal of the full notebook cells\nvar notebookContainer = gd.closest('#notebook-container');\nif (notebookContainer) {{\n    x.observe(notebookContainer, {childList: true});\n}}\n\n// Listen for the clearing of the current output cell\nvar outputEl = gd.closest('.output');\nif (outputEl) {{\n    x.observe(outputEl, {childList: true});\n}}\n\n                        })                };                            </script>        </div>\n</body>\n</html>"
     },
     "metadata": {},
     "output_type": "display_data"
    }
   ],
   "execution_count": null
  },
  {
   "cell_type": "code",
   "source": "fig3 = px.scatter_mapbox(\n    new_coord,  # Our DataFrame\n    lat='North',\n    lon='East',\n    center={\"lat\": new_coord['North'].mean(), \"lon\": new_coord['East'].mean()},  # where map will be centered\n    width=800,  # Width of map\n    height=600,  # Height of map\n    hover_data=['Pfahl'],  # what to display when hovering mouse over coordinate\n    #color=new_coord['Koordinaten Art'],\n    title='Karte'\n)\n\nfig3.update_layout(title_x=0.5, mapbox={'style': \"open-street-map\", 'center': {'lat': new_coord['North'].mean(),\n                                                                   'lon': new_coord['East'].mean()}, 'zoom': 16},\n                  hovermode='closest'\n                  # annotations=[\n                  #     dict(\n                  #         x=0.1,\n                  #         y=0.1,\n                  #         align=\"right\",\n                  #         valign=\"top\",\n                  #         text='Koordinaten',\n                  #         showarrow=False,\n                  #         xref=\"paper\",\n                  #         yref=\"paper\",\n                  #         xanchor=\"center\",\n                  #         yanchor=\"top\"\n                  #     )\n                  #]\n                  )\n# adding beautiful street layout to map and setting initial zoom\n\nfig3.show(renderer=\"colab\")\n#https://plotly.com/python/renderers/",
   "metadata": {
    "cell_id": "2ad72882847d484a8bf2304c4da998f4",
    "tags": [],
    "deepnote_to_be_reexecuted": false,
    "source_hash": "a53d28da",
    "execution_start": 1659687477152,
    "execution_millis": 603,
    "deepnote_app_coordinates": {
     "x": 0,
     "y": 143,
     "w": 12,
     "h": 51
    },
    "deepnote_cell_type": "code",
    "deepnote_cell_height": 1293,
    "deepnote_output_heights": [
     602
    ]
   },
   "outputs": [
    {
     "data": {
      "text/html": "<html>\n<head><meta charset=\"utf-8\" /></head>\n<body>\n    <div>            <script src=\"https://cdnjs.cloudflare.com/ajax/libs/mathjax/2.7.5/MathJax.js?config=TeX-AMS-MML_SVG\"></script><script type=\"text/javascript\">if (window.MathJax && window.MathJax.Hub && window.MathJax.Hub.Config) {window.MathJax.Hub.Config({SVG: {font: \"STIX-Web\"}});}</script>                <script type=\"text/javascript\">window.PlotlyConfig = {MathJaxConfig: 'local'};</script>\n        <script src=\"https://cdn.plot.ly/plotly-2.12.1.min.js\"></script>                <div id=\"eb1ae31d-a985-4d24-b80c-0bcae86dbc25\" class=\"plotly-graph-div\" style=\"height:600px; width:800px;\"></div>            <script type=\"text/javascript\">                                    window.PLOTLYENV=window.PLOTLYENV || {};                                    if (document.getElementById(\"eb1ae31d-a985-4d24-b80c-0bcae86dbc25\")) {                    Plotly.newPlot(                        \"eb1ae31d-a985-4d24-b80c-0bcae86dbc25\",                        [{\"customdata\":[[\"BNO-01\"],[\"BNO-02\"],[\"BNO-03\"],[\"BNO-04\"],[\"BNO-05\"],[\"BNO-06\"],[\"BNW-01\"],[\"BNW-02\"],[\"BNW-03\"],[\"BNW-04\"],[\"BNW-05\"],[\"BNW-06\"],[\"BNW-07\"],[\"BNW-08\"],[\"BNW-09\"],[\"BNW-10\"],[\"BNW-11\"],[\"BNW-12\"],[\"BNW-13\"],[\"BNW-14\"],[\"BO-01\"],[\"BO-02\"],[\"BO-03\"],[\"BO-04\"],[\"BO-05\"],[\"BO-06\"],[\"BO-07\"],[\"BO-08\"],[\"BO-09\"],[\"BO-10\"],[\"BO-11\"],[\"BO-12\"],[\"BO-13\"],[\"BO-14\"],[\"BO-15\"],[\"BO-16\"],[\"BO-17\"],[\"BO-18\"],[\"BO-19\"],[\"BO-20\"],[\"BO-21\"],[\"BO-22\"],[\"BO-23\"],[\"BO-24\"],[\"BO-25\"],[\"BO-26\"],[\"BO-27\"],[\"BO-28\"],[\"BO-29\"],[\"BO-30\"],[\"BO-31\"],[\"BO-32\"],[\"BO-33\"],[\"BO-34\"],[\"BO-35\"],[\"BO-36\"],[\"BO-37\"],[\"BO-38\"],[\"BO-39\"],[\"BO-40\"],[\"BO-41\"],[\"BO-42\"],[\"BO-43\"],[\"BO-44\"],[\"BO-45\"],[\"BSO-01\"],[\"BSO-02\"],[\"BSO-03\"],[\"BSW-01\"],[\"BSW-02\"],[\"BSW-03\"],[\"BSW-04\"],[\"BTN-01\"],[\"BTN-02\"],[\"BTN-03\"],[\"BTN-04\"],[\"BTN-05\"],[\"BTN-06\"],[\"BTN-07\"],[\"BTN-08\"],[\"BTN-09\"],[\"BTO-01\"],[\"BTO-02\"],[\"BTO-03\"],[\"BTO-04\"],[\"BTO-05\"],[\"BTO-06\"],[\"BTO-07\"],[\"BTO-08\"],[\"BTO-09\"],[\"BTO-10\"],[\"BTO-11\"],[\"BTO-12\"],[\"BTO-13\"],[\"BTO-14\"],[\"BTS-01\"],[\"BTS-02\"],[\"BTS-03\"],[\"BTS-04\"],[\"BTS-05\"],[\"BTS-06\"],[\"BTS-07\"],[\"BTS-08\"],[\"BTS-09\"],[\"BTW-01\"],[\"BTW-02\"],[\"BTW-03\"],[\"BTW-04\"],[\"BTW-05\"],[\"BTW-06\"],[\"BTW-07\"],[\"BTW-08\"],[\"BTW-09\"],[\"BTW-10\"],[\"BTW-11\"],[\"BTW-12\"],[\"BTW-13\"],[\"BW-01\"],[\"BW-02\"],[\"BW-03\"],[\"BW-04\"],[\"BW-05\"],[\"BW-06\"],[\"BW-07\"],[\"BW-08\"],[\"BW-09\"],[\"BW-10\"],[\"BW-11\"],[\"BW-12\"],[\"BW-13\"],[\"BW-14\"],[\"BW-15\"],[\"BW-16\"],[\"BW-17\"],[\"BW-18\"],[\"BW-19\"],[\"BW-20\"],[\"BW-21\"],[\"BW-22\"],[\"BW-23\"],[\"BW-24\"],[\"BW-25\"],[\"BW-26\"],[\"BW-27\"],[\"BW-28\"],[\"BW-29\"],[\"BW-30\"],[\"BW-31\"],[\"BW-32\"],[\"BW-33\"],[\"BW-34\"],[\"BW-35\"],[\"BW-36\"],[\"BW-37\"],[\"BW-38\"],[\"BW-39\"],[\"BW-40\"],[\"BW-41\"],[\"BW-42\"],[\"KIE-01\"],[\"KIE-02\"],[\"KIE-03\"],[\"KIE-04\"],[\"KIE-05\"],[\"KIE-06\"],[\"KIE-07\"],[\"KIE-08\"]],\"hovertemplate\":\"North=%{lat}<br>East=%{lon}<br>Pfahl=%{customdata[0]}<extra></extra>\",\"lat\":[49.87133359552492,49.871340482029524,49.87134694754667,49.871357290356535,49.871454122578925,49.87146381078959,49.871218170203804,49.871212391113616,49.87120384694351,49.87119521461149,49.87118658226838,49.87118911510084,49.87120281399306,49.871216511976485,49.87122767804681,49.87123631038932,49.871244942728666,49.87124240990248,49.871228711903875,49.87121501300436,49.87146950699148,49.871481022552146,49.87149253811249,49.87150405368036,49.871515569240024,49.87152708479938,49.8715375521484,49.87154750443137,49.871557455821446,49.871566061165545,49.87157424004883,49.87158241982944,49.87159059870943,49.87159877848676,49.87160695826247,49.87160734256645,49.8715973902675,49.87158743887366,49.87157750530883,49.87156469250743,49.871551879697776,49.87153906599655,49.871526253193935,49.87151344039092,49.87150062668847,49.871487813884634,49.871475001080405,49.87146218737673,49.871449374571675,49.871436561766195,49.87142374806131,49.87141093524717,49.87139812244048,49.87138530873437,49.871372495926856,49.87135968311896,49.871346869411624,49.8713340566029,49.871321243793766,49.87130843008521,49.87129561727527,49.87128293913814,49.8712741407836,49.87126642087341,49.87125865448751,49.87117558879088,49.87116751284649,49.87116237891208,49.871064236398304,49.87105735626936,49.871050475231925,49.871043595091855,49.87136697314125,49.87137665592206,49.871386338691146,49.87139602146419,49.87140570696183,49.87141538609965,49.8714250688532,49.871434751610714,49.87144443436437,49.87144229308887,49.87142831596503,49.87141433883143,49.87140036170384,49.87138638456653,49.87137240743521,49.87135843029416,49.8713444531591,49.871330476022145,49.871316498875466,49.871302521734805,49.871288544584395,49.87127456743997,49.871260590285836,49.87118527154125,49.87119495428772,49.87120463702247,49.871214318862165,49.871224001597014,49.871233684327954,49.87124336705503,49.87125304977037,49.87126273248967,49.871355143645616,49.87134116654553,49.871327189435725,49.8713132123319,49.87129923521838,49.8712852581108,49.87127128099352,49.87125730388224,49.87124332676907,49.871229349646164,49.87121537252927,49.87120139540264,49.871187418281984,49.87103753974019,49.871029283748065,49.8710210268546,49.87101194230104,49.871001279595845,49.870990616889166,49.87098153501709,49.87097327812457,49.87096502122973,49.8709567652394,49.87094850833988,49.87094025143803,49.87094199930018,49.87095281570614,49.87096363121957,49.87097444762277,49.87098526403246,49.87099607954175,49.87100689594079,49.87101771144732,49.871028527843606,49.87103934334736,49.87105015974875,49.87106097524189,49.8710717916405,49.87108260802988,49.87109342352675,49.8711042399212,49.871115055407444,49.87112587179915,49.87113668728261,49.871147503671565,49.8711583191601,49.87116913553844,49.87117995192323,49.87118890050593,49.87119809807466,49.871207294734496,49.87121649140019,49.87122568806393,49.871225648772096,49.87122561037554,49.871369120751666,49.87134116654553,49.871456270218715,49.87142831596503,49.87120139540264,49.87117344115161,49.871288544584395,49.87124661313767],\"legendgroup\":\"\",\"lon\":[8.343832778290398,8.343846540308933,8.343860740657991,8.343883454852637,8.344096117678584,8.344117395486329,8.343627153982538,8.343612240519013,8.343591688878261,8.34357240015142,8.343553110040485,8.343536128171756,8.343521451739678,8.343506773920474,8.343509080748136,8.343528369476465,8.34354765821169,8.343564641490422,8.343579317910267,8.343593994333965,8.344129903620214,8.344124055467454,8.344118207311888,8.344112360544498,8.344106512383325,8.344100664219344,8.344092608659352,8.34407852689166,8.344064446521333,8.344063545502244,8.344077384726369,8.344091223943018,8.344105063176496,8.344118902402487,8.344132741633159,8.344146334391537,8.344160414771899,8.3441744965253,8.344188551600878,8.344195058594542,8.344201564193742,8.34420807119262,8.344214578175867,8.34422108515564,8.3442275921441,8.344234099116928,8.344240606086283,8.34424711306432,8.344253620026732,8.34426012698567,8.344266633953293,8.344273139514307,8.34427964646283,8.344286153420036,8.344292660361614,8.34429916729972,8.344305674246504,8.344312181177665,8.344318688105353,8.344325195041728,8.34433170196247,8.344338016479412,8.344335150211828,8.344318042725698,8.34430098456163,8.344071376143235,8.344053639217528,8.344038171684414,8.343813702415693,8.343799955695504,8.343786207600425,8.343772459497083,8.343904720129274,8.343925985414433,8.343947249317132,8.343968514619336,8.343989785457495,8.344011045261473,8.344032309198264,8.344053574534556,8.344074839879367,8.344092712373648,8.34410716851613,8.344121623259259,8.34413607938501,8.34415053411141,8.344164990220424,8.344179444930093,8.344193901022376,8.3442083571063,8.344222811790871,8.344237267858055,8.344251722525897,8.344266178576357,8.344280633227472,8.34409264137834,8.344113906621967,8.344135170483144,8.344156435755977,8.34417770102517,8.344198966302885,8.344220231589125,8.344241495492904,8.344262760796186,8.34390131487707,8.343915771048307,8.343930225820195,8.34394468197469,8.343959136729847,8.343973592867618,8.343988047606043,8.344002503727085,8.344016959839749,8.344031414553076,8.34404587064902,8.34406032534562,8.34407478142483,8.343760361180584,8.343743863463441,8.343727365764106,8.343726199221562,8.343738974562715,8.343751749898225,8.343750580533333,8.343734082849036,8.343717585170364,8.343701088876129,8.343684591208726,8.343668093546956,8.343654433160713,8.34364197011893,8.343629508474711,8.343617045421782,8.343604583754235,8.343592122093286,8.343579659023614,8.343567197351517,8.343554734270695,8.34354227258744,8.343529810886439,8.343517347801058,8.3435048860889,8.343492422980187,8.343479961269056,8.34346749954016,8.343455036426896,8.343442574686856,8.343430111562435,8.343417649811235,8.343405188066642,8.343392724913315,8.343380263145383,8.343381709685232,8.343396970487678,8.343412229917115,8.34342749074334,8.343442751575354,8.343463616984158,8.343484482380788,8.343886860088451,8.343915771048307,8.344078257613791,8.34410716851613,8.34406032534562,8.344089236104695,8.344251722525897,8.34429508926119],\"marker\":{\"color\":\"#636efa\"},\"mode\":\"markers\",\"name\":\"\",\"showlegend\":false,\"subplot\":\"mapbox\",\"type\":\"scattermapbox\"}],                        {\"template\":{\"data\":{\"histogram2dcontour\":[{\"type\":\"histogram2dcontour\",\"colorbar\":{\"outlinewidth\":0,\"ticks\":\"\"},\"colorscale\":[[0.0,\"#0d0887\"],[0.1111111111111111,\"#46039f\"],[0.2222222222222222,\"#7201a8\"],[0.3333333333333333,\"#9c179e\"],[0.4444444444444444,\"#bd3786\"],[0.5555555555555556,\"#d8576b\"],[0.6666666666666666,\"#ed7953\"],[0.7777777777777778,\"#fb9f3a\"],[0.8888888888888888,\"#fdca26\"],[1.0,\"#f0f921\"]]}],\"choropleth\":[{\"type\":\"choropleth\",\"colorbar\":{\"outlinewidth\":0,\"ticks\":\"\"}}],\"histogram2d\":[{\"type\":\"histogram2d\",\"colorbar\":{\"outlinewidth\":0,\"ticks\":\"\"},\"colorscale\":[[0.0,\"#0d0887\"],[0.1111111111111111,\"#46039f\"],[0.2222222222222222,\"#7201a8\"],[0.3333333333333333,\"#9c179e\"],[0.4444444444444444,\"#bd3786\"],[0.5555555555555556,\"#d8576b\"],[0.6666666666666666,\"#ed7953\"],[0.7777777777777778,\"#fb9f3a\"],[0.8888888888888888,\"#fdca26\"],[1.0,\"#f0f921\"]]}],\"heatmap\":[{\"type\":\"heatmap\",\"colorbar\":{\"outlinewidth\":0,\"ticks\":\"\"},\"colorscale\":[[0.0,\"#0d0887\"],[0.1111111111111111,\"#46039f\"],[0.2222222222222222,\"#7201a8\"],[0.3333333333333333,\"#9c179e\"],[0.4444444444444444,\"#bd3786\"],[0.5555555555555556,\"#d8576b\"],[0.6666666666666666,\"#ed7953\"],[0.7777777777777778,\"#fb9f3a\"],[0.8888888888888888,\"#fdca26\"],[1.0,\"#f0f921\"]]}],\"heatmapgl\":[{\"type\":\"heatmapgl\",\"colorbar\":{\"outlinewidth\":0,\"ticks\":\"\"},\"colorscale\":[[0.0,\"#0d0887\"],[0.1111111111111111,\"#46039f\"],[0.2222222222222222,\"#7201a8\"],[0.3333333333333333,\"#9c179e\"],[0.4444444444444444,\"#bd3786\"],[0.5555555555555556,\"#d8576b\"],[0.6666666666666666,\"#ed7953\"],[0.7777777777777778,\"#fb9f3a\"],[0.8888888888888888,\"#fdca26\"],[1.0,\"#f0f921\"]]}],\"contourcarpet\":[{\"type\":\"contourcarpet\",\"colorbar\":{\"outlinewidth\":0,\"ticks\":\"\"}}],\"contour\":[{\"type\":\"contour\",\"colorbar\":{\"outlinewidth\":0,\"ticks\":\"\"},\"colorscale\":[[0.0,\"#0d0887\"],[0.1111111111111111,\"#46039f\"],[0.2222222222222222,\"#7201a8\"],[0.3333333333333333,\"#9c179e\"],[0.4444444444444444,\"#bd3786\"],[0.5555555555555556,\"#d8576b\"],[0.6666666666666666,\"#ed7953\"],[0.7777777777777778,\"#fb9f3a\"],[0.8888888888888888,\"#fdca26\"],[1.0,\"#f0f921\"]]}],\"surface\":[{\"type\":\"surface\",\"colorbar\":{\"outlinewidth\":0,\"ticks\":\"\"},\"colorscale\":[[0.0,\"#0d0887\"],[0.1111111111111111,\"#46039f\"],[0.2222222222222222,\"#7201a8\"],[0.3333333333333333,\"#9c179e\"],[0.4444444444444444,\"#bd3786\"],[0.5555555555555556,\"#d8576b\"],[0.6666666666666666,\"#ed7953\"],[0.7777777777777778,\"#fb9f3a\"],[0.8888888888888888,\"#fdca26\"],[1.0,\"#f0f921\"]]}],\"mesh3d\":[{\"type\":\"mesh3d\",\"colorbar\":{\"outlinewidth\":0,\"ticks\":\"\"}}],\"scatter\":[{\"fillpattern\":{\"fillmode\":\"overlay\",\"size\":10,\"solidity\":0.2},\"type\":\"scatter\"}],\"parcoords\":[{\"type\":\"parcoords\",\"line\":{\"colorbar\":{\"outlinewidth\":0,\"ticks\":\"\"}}}],\"scatterpolargl\":[{\"type\":\"scatterpolargl\",\"marker\":{\"colorbar\":{\"outlinewidth\":0,\"ticks\":\"\"}}}],\"bar\":[{\"error_x\":{\"color\":\"#2a3f5f\"},\"error_y\":{\"color\":\"#2a3f5f\"},\"marker\":{\"line\":{\"color\":\"#E5ECF6\",\"width\":0.5},\"pattern\":{\"fillmode\":\"overlay\",\"size\":10,\"solidity\":0.2}},\"type\":\"bar\"}],\"scattergeo\":[{\"type\":\"scattergeo\",\"marker\":{\"colorbar\":{\"outlinewidth\":0,\"ticks\":\"\"}}}],\"scatterpolar\":[{\"type\":\"scatterpolar\",\"marker\":{\"colorbar\":{\"outlinewidth\":0,\"ticks\":\"\"}}}],\"histogram\":[{\"marker\":{\"pattern\":{\"fillmode\":\"overlay\",\"size\":10,\"solidity\":0.2}},\"type\":\"histogram\"}],\"scattergl\":[{\"type\":\"scattergl\",\"marker\":{\"colorbar\":{\"outlinewidth\":0,\"ticks\":\"\"}}}],\"scatter3d\":[{\"type\":\"scatter3d\",\"line\":{\"colorbar\":{\"outlinewidth\":0,\"ticks\":\"\"}},\"marker\":{\"colorbar\":{\"outlinewidth\":0,\"ticks\":\"\"}}}],\"scattermapbox\":[{\"type\":\"scattermapbox\",\"marker\":{\"colorbar\":{\"outlinewidth\":0,\"ticks\":\"\"}}}],\"scatterternary\":[{\"type\":\"scatterternary\",\"marker\":{\"colorbar\":{\"outlinewidth\":0,\"ticks\":\"\"}}}],\"scattercarpet\":[{\"type\":\"scattercarpet\",\"marker\":{\"colorbar\":{\"outlinewidth\":0,\"ticks\":\"\"}}}],\"carpet\":[{\"aaxis\":{\"endlinecolor\":\"#2a3f5f\",\"gridcolor\":\"white\",\"linecolor\":\"white\",\"minorgridcolor\":\"white\",\"startlinecolor\":\"#2a3f5f\"},\"baxis\":{\"endlinecolor\":\"#2a3f5f\",\"gridcolor\":\"white\",\"linecolor\":\"white\",\"minorgridcolor\":\"white\",\"startlinecolor\":\"#2a3f5f\"},\"type\":\"carpet\"}],\"table\":[{\"cells\":{\"fill\":{\"color\":\"#EBF0F8\"},\"line\":{\"color\":\"white\"}},\"header\":{\"fill\":{\"color\":\"#C8D4E3\"},\"line\":{\"color\":\"white\"}},\"type\":\"table\"}],\"barpolar\":[{\"marker\":{\"line\":{\"color\":\"#E5ECF6\",\"width\":0.5},\"pattern\":{\"fillmode\":\"overlay\",\"size\":10,\"solidity\":0.2}},\"type\":\"barpolar\"}],\"pie\":[{\"automargin\":true,\"type\":\"pie\"}]},\"layout\":{\"autotypenumbers\":\"strict\",\"colorway\":[\"#636efa\",\"#EF553B\",\"#00cc96\",\"#ab63fa\",\"#FFA15A\",\"#19d3f3\",\"#FF6692\",\"#B6E880\",\"#FF97FF\",\"#FECB52\"],\"font\":{\"color\":\"#2a3f5f\"},\"hovermode\":\"closest\",\"hoverlabel\":{\"align\":\"left\"},\"paper_bgcolor\":\"white\",\"plot_bgcolor\":\"#E5ECF6\",\"polar\":{\"bgcolor\":\"#E5ECF6\",\"angularaxis\":{\"gridcolor\":\"white\",\"linecolor\":\"white\",\"ticks\":\"\"},\"radialaxis\":{\"gridcolor\":\"white\",\"linecolor\":\"white\",\"ticks\":\"\"}},\"ternary\":{\"bgcolor\":\"#E5ECF6\",\"aaxis\":{\"gridcolor\":\"white\",\"linecolor\":\"white\",\"ticks\":\"\"},\"baxis\":{\"gridcolor\":\"white\",\"linecolor\":\"white\",\"ticks\":\"\"},\"caxis\":{\"gridcolor\":\"white\",\"linecolor\":\"white\",\"ticks\":\"\"}},\"coloraxis\":{\"colorbar\":{\"outlinewidth\":0,\"ticks\":\"\"}},\"colorscale\":{\"sequential\":[[0.0,\"#0d0887\"],[0.1111111111111111,\"#46039f\"],[0.2222222222222222,\"#7201a8\"],[0.3333333333333333,\"#9c179e\"],[0.4444444444444444,\"#bd3786\"],[0.5555555555555556,\"#d8576b\"],[0.6666666666666666,\"#ed7953\"],[0.7777777777777778,\"#fb9f3a\"],[0.8888888888888888,\"#fdca26\"],[1.0,\"#f0f921\"]],\"sequentialminus\":[[0.0,\"#0d0887\"],[0.1111111111111111,\"#46039f\"],[0.2222222222222222,\"#7201a8\"],[0.3333333333333333,\"#9c179e\"],[0.4444444444444444,\"#bd3786\"],[0.5555555555555556,\"#d8576b\"],[0.6666666666666666,\"#ed7953\"],[0.7777777777777778,\"#fb9f3a\"],[0.8888888888888888,\"#fdca26\"],[1.0,\"#f0f921\"]],\"diverging\":[[0,\"#8e0152\"],[0.1,\"#c51b7d\"],[0.2,\"#de77ae\"],[0.3,\"#f1b6da\"],[0.4,\"#fde0ef\"],[0.5,\"#f7f7f7\"],[0.6,\"#e6f5d0\"],[0.7,\"#b8e186\"],[0.8,\"#7fbc41\"],[0.9,\"#4d9221\"],[1,\"#276419\"]]},\"xaxis\":{\"gridcolor\":\"white\",\"linecolor\":\"white\",\"ticks\":\"\",\"title\":{\"standoff\":15},\"zerolinecolor\":\"white\",\"automargin\":true,\"zerolinewidth\":2},\"yaxis\":{\"gridcolor\":\"white\",\"linecolor\":\"white\",\"ticks\":\"\",\"title\":{\"standoff\":15},\"zerolinecolor\":\"white\",\"automargin\":true,\"zerolinewidth\":2},\"scene\":{\"xaxis\":{\"backgroundcolor\":\"#E5ECF6\",\"gridcolor\":\"white\",\"linecolor\":\"white\",\"showbackground\":true,\"ticks\":\"\",\"zerolinecolor\":\"white\",\"gridwidth\":2},\"yaxis\":{\"backgroundcolor\":\"#E5ECF6\",\"gridcolor\":\"white\",\"linecolor\":\"white\",\"showbackground\":true,\"ticks\":\"\",\"zerolinecolor\":\"white\",\"gridwidth\":2},\"zaxis\":{\"backgroundcolor\":\"#E5ECF6\",\"gridcolor\":\"white\",\"linecolor\":\"white\",\"showbackground\":true,\"ticks\":\"\",\"zerolinecolor\":\"white\",\"gridwidth\":2}},\"shapedefaults\":{\"line\":{\"color\":\"#2a3f5f\"}},\"annotationdefaults\":{\"arrowcolor\":\"#2a3f5f\",\"arrowhead\":0,\"arrowwidth\":1},\"geo\":{\"bgcolor\":\"white\",\"landcolor\":\"#E5ECF6\",\"subunitcolor\":\"white\",\"showland\":true,\"showlakes\":true,\"lakecolor\":\"white\"},\"title\":{\"x\":0.05},\"mapbox\":{\"style\":\"light\"}}},\"mapbox\":{\"domain\":{\"x\":[0.0,1.0],\"y\":[0.0,1.0]},\"center\":{\"lat\":49.87127826327499,\"lon\":8.343930249402803},\"zoom\":16,\"style\":\"open-street-map\"},\"legend\":{\"tracegroupgap\":0},\"title\":{\"text\":\"Karte\",\"x\":0.5},\"height\":600,\"width\":800,\"hovermode\":\"closest\"},                        {\"responsive\": true}                    ).then(function(){\n                            \nvar gd = document.getElementById('eb1ae31d-a985-4d24-b80c-0bcae86dbc25');\nvar x = new MutationObserver(function (mutations, observer) {{\n        var display = window.getComputedStyle(gd).display;\n        if (!display || display === 'none') {{\n            console.log([gd, 'removed!']);\n            Plotly.purge(gd);\n            observer.disconnect();\n        }}\n}});\n\n// Listen for the removal of the full notebook cells\nvar notebookContainer = gd.closest('#notebook-container');\nif (notebookContainer) {{\n    x.observe(notebookContainer, {childList: true});\n}}\n\n// Listen for the clearing of the current output cell\nvar outputEl = gd.closest('.output');\nif (outputEl) {{\n    x.observe(outputEl, {childList: true});\n}}\n\n                        })                };                            </script>        </div>\n</body>\n</html>"
     },
     "metadata": {},
     "output_type": "display_data"
    }
   ],
   "execution_count": null
  },
  {
   "cell_type": "code",
   "source": "import base64\nimport pandas as pd\nfrom IPython.display import HTML\n\nvalid = False\nwhile not valid: #loop until the user enters a valid int\n    lang = input('Enter the language of your laptop (de or en): ')\n    if lang == 'de':\n        delimiter = ';'\n        valid = True\n    elif  lang == 'en':\n        delimiter = ','\n        valid = True\n    else:\n        valid = False # stay in the loop\n\ndef create_download_link(df, title = \"Download converted coordinates\", filename = \"Converted_elements.csv\"):\n    csv = df.to_csv(index=False, sep=delimiter)\n    b64 = base64.b64encode(csv.encode())\n    payload = b64.decode()\n    html = '<a download=\"{filename}\" href=\"data:text/csv;base64,{payload}\" target=\"_blank\">{title}</a>'\n    html = html.format(payload=payload,title=title,filename=filename)\n    return HTML(html)\n\ncreate_download_link(new_coord)",
   "metadata": {
    "cell_id": "b5e50111803d46a89f57da5d4caecdf3",
    "tags": [],
    "deepnote_to_be_reexecuted": false,
    "source_hash": "9b010a01",
    "execution_start": 1659631846828,
    "execution_millis": 6847,
    "deepnote_app_coordinates": {
     "x": 0,
     "y": 195,
     "w": 12,
     "h": 22
    },
    "deepnote_cell_type": "code",
    "deepnote_cell_height": 550.1875,
    "deepnote_output_heights": [
     21.1875
    ]
   },
   "execution_count": null,
   "outputs": [
    {
     "output_type": "execute_result",
     "execution_count": 30,
     "data": {
      "text/plain": "<IPython.core.display.HTML object>",
      "text/html": "<a download=\"Converted_elements.csv\" href=\"data:text/csv;base64,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\" target=\"_blank\">Download converted coordinates</a>"
     },
     "metadata": {}
    }
   ]
  },
  {
   "cell_type": "markdown",
   "source": "<a style='text-decoration:none;line-height:16px;display:flex;color:#5B5B62;padding:10px;justify-content:end;' href='https://deepnote.com?utm_source=created-in-deepnote-cell&projectId=6a82d000-c111-4d9b-b2f0-364d0f452677' target=\"_blank\">\n<img alt='Created in deepnote.com' style='display:inline;max-height:16px;margin:0px;margin-right:7.5px;' src='data:image/svg+xml;base64,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' > </img>\nCreated in <span style='font-weight:600;margin-left:4px;'>Deepnote</span></a>",
   "metadata": {
    "tags": [],
    "created_in_deepnote_cell": true,
    "deepnote_cell_type": "markdown"
   }
  }
 ],
 "nbformat": 4,
 "nbformat_minor": 2,
 "metadata": {
  "orig_nbformat": 2,
  "deepnote": {},
  "deepnote_notebook_id": "19f94e9b-154b-4827-92cf-f6a1b748bb3b",
  "deepnote_execution_queue": [],
  "deepnote_app_layout": "dashboard"
 }
}
